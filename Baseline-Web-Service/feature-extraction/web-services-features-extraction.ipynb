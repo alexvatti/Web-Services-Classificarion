{
 "cells": [
  {
   "cell_type": "markdown",
   "id": "bad1290f",
   "metadata": {},
   "source": [
    "# Feature Extraction from Web Service Descriptions using TF-IDF and Sentence Transformers (all-MiniLM-L6-v2)"
   ]
  },
  {
   "cell_type": "code",
   "execution_count": 1,
   "id": "01f1893f",
   "metadata": {
    "cellUniqueIdByVincent": "d4d36"
   },
   "outputs": [
    {
     "name": "stdout",
     "output_type": "stream",
     "text": [
      "TF-IDF features saved to: Pre_Processed_Top_10_Web_Services_Categories_TFIDF.csv\n",
      "WARNING:tensorflow:From C:\\Users\\91956\\anaconda3\\Lib\\site-packages\\keras\\src\\losses.py:2976: The name tf.losses.sparse_softmax_cross_entropy is deprecated. Please use tf.compat.v1.losses.sparse_softmax_cross_entropy instead.\n",
      "\n"
     ]
    },
    {
     "data": {
      "application/vnd.jupyter.widget-view+json": {
       "model_id": "7ef21f63f73949b7bb9513f2607349e0",
       "version_major": 2,
       "version_minor": 0
      },
      "text/plain": [
       "Batches:   0%|          | 0/147 [00:00<?, ?it/s]"
      ]
     },
     "metadata": {},
     "output_type": "display_data"
    },
    {
     "name": "stdout",
     "output_type": "stream",
     "text": [
      "SBERT embeddings saved to: Pre_Processed_Top_10_Web_Services_Categories_SBERT_Embeddings.csv\n",
      "TF-IDF features saved to: Pre_Processed_Top_20_Web_Services_Categories_TFIDF.csv\n"
     ]
    },
    {
     "data": {
      "application/vnd.jupyter.widget-view+json": {
       "model_id": "095fa50ed2664ca7a15aa8a75d8a7092",
       "version_major": 2,
       "version_minor": 0
      },
      "text/plain": [
       "Batches:   0%|          | 0/225 [00:00<?, ?it/s]"
      ]
     },
     "metadata": {},
     "output_type": "display_data"
    },
    {
     "name": "stdout",
     "output_type": "stream",
     "text": [
      "SBERT embeddings saved to: Pre_Processed_Top_20_Web_Services_Categories_SBERT_Embeddings.csv\n",
      "TF-IDF features saved to: Pre_Processed_Top_30_Web_Services_Categories_TFIDF.csv\n"
     ]
    },
    {
     "data": {
      "application/vnd.jupyter.widget-view+json": {
       "model_id": "7f89ed3088ec4ea89a274aa6404142dc",
       "version_major": 2,
       "version_minor": 0
      },
      "text/plain": [
       "Batches:   0%|          | 0/277 [00:00<?, ?it/s]"
      ]
     },
     "metadata": {},
     "output_type": "display_data"
    },
    {
     "name": "stdout",
     "output_type": "stream",
     "text": [
      "SBERT embeddings saved to: Pre_Processed_Top_30_Web_Services_Categories_SBERT_Embeddings.csv\n",
      "TF-IDF features saved to: Pre_Processed_Top_40_Web_Services_Categories_TFIDF.csv\n"
     ]
    },
    {
     "data": {
      "application/vnd.jupyter.widget-view+json": {
       "model_id": "84d158d48d6642f1a8aca106a76600ad",
       "version_major": 2,
       "version_minor": 0
      },
      "text/plain": [
       "Batches:   0%|          | 0/315 [00:00<?, ?it/s]"
      ]
     },
     "metadata": {},
     "output_type": "display_data"
    },
    {
     "name": "stdout",
     "output_type": "stream",
     "text": [
      "SBERT embeddings saved to: Pre_Processed_Top_40_Web_Services_Categories_SBERT_Embeddings.csv\n",
      "TF-IDF features saved to: Pre_Processed_Top_50_Web_Services_Categories_TFIDF.csv\n"
     ]
    },
    {
     "data": {
      "application/vnd.jupyter.widget-view+json": {
       "model_id": "9b06651d9bed4ccfbac482d3c0943c7a",
       "version_major": 2,
       "version_minor": 0
      },
      "text/plain": [
       "Batches:   0%|          | 0/343 [00:00<?, ?it/s]"
      ]
     },
     "metadata": {},
     "output_type": "display_data"
    },
    {
     "name": "stdout",
     "output_type": "stream",
     "text": [
      "SBERT embeddings saved to: Pre_Processed_Top_50_Web_Services_Categories_SBERT_Embeddings.csv\n",
      "TF-IDF features saved to: Pre_Processed_Top_60_Web_Services_Categories_TFIDF.csv\n"
     ]
    },
    {
     "data": {
      "application/vnd.jupyter.widget-view+json": {
       "model_id": "79ebe0f41ff34b8e83b35c9505ef64f4",
       "version_major": 2,
       "version_minor": 0
      },
      "text/plain": [
       "Batches:   0%|          | 0/363 [00:00<?, ?it/s]"
      ]
     },
     "metadata": {},
     "output_type": "display_data"
    },
    {
     "name": "stdout",
     "output_type": "stream",
     "text": [
      "SBERT embeddings saved to: Pre_Processed_Top_60_Web_Services_Categories_SBERT_Embeddings.csv\n",
      "TF-IDF features saved to: Pre_Processed_Top_70_Web_Services_Categories_TFIDF.csv\n"
     ]
    },
    {
     "data": {
      "application/vnd.jupyter.widget-view+json": {
       "model_id": "e0a7c5e284e44f75b4f496cad2085c06",
       "version_major": 2,
       "version_minor": 0
      },
      "text/plain": [
       "Batches:   0%|          | 0/377 [00:00<?, ?it/s]"
      ]
     },
     "metadata": {},
     "output_type": "display_data"
    },
    {
     "name": "stdout",
     "output_type": "stream",
     "text": [
      "SBERT embeddings saved to: Pre_Processed_Top_70_Web_Services_Categories_SBERT_Embeddings.csv\n",
      "TF-IDF features saved to: Pre_Processed_Top_80_Web_Services_Categories_TFIDF.csv\n"
     ]
    },
    {
     "data": {
      "application/vnd.jupyter.widget-view+json": {
       "model_id": "842a2082ae8843a5bf51cc9fa3c8b61a",
       "version_major": 2,
       "version_minor": 0
      },
      "text/plain": [
       "Batches:   0%|          | 0/390 [00:00<?, ?it/s]"
      ]
     },
     "metadata": {},
     "output_type": "display_data"
    },
    {
     "name": "stdout",
     "output_type": "stream",
     "text": [
      "SBERT embeddings saved to: Pre_Processed_Top_80_Web_Services_Categories_SBERT_Embeddings.csv\n",
      "TF-IDF features saved to: Pre_Processed_Top_90_Web_Services_Categories_TFIDF.csv\n"
     ]
    },
    {
     "data": {
      "application/vnd.jupyter.widget-view+json": {
       "model_id": "9a983c4f1f62454e832f13d07a10e639",
       "version_major": 2,
       "version_minor": 0
      },
      "text/plain": [
       "Batches:   0%|          | 0/400 [00:00<?, ?it/s]"
      ]
     },
     "metadata": {},
     "output_type": "display_data"
    },
    {
     "name": "stdout",
     "output_type": "stream",
     "text": [
      "SBERT embeddings saved to: Pre_Processed_Top_90_Web_Services_Categories_SBERT_Embeddings.csv\n",
      "TF-IDF features saved to: Pre_Processed_Top_100_Web_Services_Categories_TFIDF.csv\n"
     ]
    },
    {
     "data": {
      "application/vnd.jupyter.widget-view+json": {
       "model_id": "86004a8742c74809935f72d63715fb8b",
       "version_major": 2,
       "version_minor": 0
      },
      "text/plain": [
       "Batches:   0%|          | 0/410 [00:00<?, ?it/s]"
      ]
     },
     "metadata": {},
     "output_type": "display_data"
    },
    {
     "name": "stdout",
     "output_type": "stream",
     "text": [
      "SBERT embeddings saved to: Pre_Processed_Top_100_Web_Services_Categories_SBERT_Embeddings.csv\n"
     ]
    }
   ],
   "source": [
    "import pandas as pd\n",
    "from sklearn.feature_extraction.text import TfidfVectorizer\n",
    "from sentence_transformers import SentenceTransformer\n",
    "\n",
    "\n",
    "def vectorize_descriptions(service_list, max_features=1000):\n",
    "    \"\"\"\n",
    "    Converts a list of service descriptions into a DataFrame of TF-IDF features.\n",
    "    Limits to top `max_features` terms by importance across the corpus.\n",
    "    \"\"\"\n",
    "    \n",
    "    vectorizer = TfidfVectorizer(max_features=max_features)\n",
    "    tfidf_matrix = vectorizer.fit_transform(service_list)\n",
    "    feature_names = vectorizer.get_feature_names_out()\n",
    "    \n",
    "    return pd.DataFrame(tfidf_matrix.toarray(), columns=feature_names)\n",
    "\n",
    "\n",
    "\n",
    "def embed_descriptions_with_sbert(services, model_name='all-MiniLM-L6-v2'):\n",
    "    \"\"\"\n",
    "    Converts service descriptions into SBERT embeddings using SentenceTransformer.\n",
    "    \"\"\"\n",
    "    model = SentenceTransformer(model_name)\n",
    "    embeddings = model.encode(services, show_progress_bar=True)\n",
    "    \n",
    "    return pd.DataFrame(embeddings, index=services.index if isinstance(services, pd.Series) else None)\n",
    "\n",
    "if __name__ == \"__main__\":\n",
    "    for n in [10, 20, 30, 40, 50, 60, 70, 80, 90, 100]:\n",
    "        input_csv = f\"../data-preprocessing/Pre_Processed_Top_{n}_Web_Services_Categories.csv\"\n",
    "        df = pd.read_csv(input_csv)\n",
    "\n",
    "        # Ensure the column exists and fill missing with empty strings\n",
    "        df['Pre-Processed Description'] = df['Pre-Processed Description'].fillna(\"\")\n",
    "\n",
    "        tfidf_df = vectorize_descriptions(df['Pre-Processed Description'])\n",
    "        tfidf_output_csv = f\"Pre_Processed_Top_{n}_Web_Services_Categories_TFIDF.csv\"\n",
    "        tfidf_df.to_csv(tfidf_output_csv, encoding='utf-8', index=False, header=True)\n",
    "        print(f\"TF-IDF features saved to: {tfidf_output_csv}\")\n",
    "\n",
    "        embedding_df = embed_descriptions_with_sbert(df['Pre-Processed Description'])\n",
    "        embedding_output_csv = f\"Pre_Processed_Top_{n}_Web_Services_Categories_SBERT_Embeddings.csv\"\n",
    "        embedding_df.to_csv(embedding_output_csv, encoding='utf-8', index=False, header=True)\n",
    "        print(f\"SBERT embeddings saved to: {embedding_output_csv}\")\n"
   ]
  },
  {
   "cell_type": "code",
   "execution_count": null,
   "id": "84c15dd2",
   "metadata": {},
   "outputs": [],
   "source": []
  }
 ],
 "metadata": {
  "kernelspec": {
   "display_name": "Python 3 (ipykernel)",
   "language": "python",
   "name": "python3"
  },
  "language_info": {
   "codemirror_mode": {
    "name": "ipython",
    "version": 3
   },
   "file_extension": ".py",
   "mimetype": "text/x-python",
   "name": "python",
   "nbconvert_exporter": "python",
   "pygments_lexer": "ipython3",
   "version": "3.11.5"
  },
  "vincent": {
   "sessionId": "8ddc08326a45fa76c0b66e5a_2025-06-03T06-48-00-937Z"
  }
 },
 "nbformat": 4,
 "nbformat_minor": 5
}
