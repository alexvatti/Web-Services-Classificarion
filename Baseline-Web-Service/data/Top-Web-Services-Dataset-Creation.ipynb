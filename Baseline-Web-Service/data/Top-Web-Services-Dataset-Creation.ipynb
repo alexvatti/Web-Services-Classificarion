{
 "cells": [
  {
   "cell_type": "markdown",
   "id": "a29c361e",
   "metadata": {},
   "source": [
    "# Top Web Services Dataset – Categorization"
   ]
  },
  {
   "cell_type": "code",
   "execution_count": 4,
   "id": "79c9b6f4",
   "metadata": {
    "cellUniqueIdByVincent": "2d968"
   },
   "outputs": [
    {
     "name": "stdout",
     "output_type": "stream",
     "text": [
      "Saved Top 10 Web Service Categories CSV and plot.\n",
      "Saved Top 20 Web Service Categories CSV and plot.\n",
      "Saved Top 30 Web Service Categories CSV and plot.\n",
      "Saved Top 40 Web Service Categories CSV and plot.\n",
      "Saved Top 50 Web Service Categories CSV and plot.\n",
      "Saved Top 60 Web Service Categories CSV and plot.\n",
      "Saved Top 70 Web Service Categories CSV and plot.\n",
      "Saved Top 80 Web Service Categories CSV and plot.\n",
      "Saved Top 90 Web Service Categories CSV and plot.\n",
      "Saved Top 100 Web Service Categories CSV and plot.\n"
     ]
    }
   ],
   "source": [
    "import json\n",
    "import pandas as pd\n",
    "import matplotlib.pyplot as plt\n",
    "import os\n",
    "\n",
    "\n",
    "def return_json_from_txt(txt_path):\n",
    "    '''return the json data for the given txt file'''\n",
    "    with open(txt_path, encoding='utf-8') as file:\n",
    "        raw = file.read()\n",
    "        data = json.loads(raw, strict=False)\n",
    "    return data\n",
    "\n",
    "\n",
    "def extract_web_service_description_category(data, desc_key='Description', cat_key='PrimaryCategory'):\n",
    "    '''with extract the columns from given pandas dataframe'''\n",
    "    df = pd.DataFrame(data)\n",
    "    df_final = pd.DataFrame(df[[desc_key, cat_key]])\n",
    "    df_final.columns = ['Service Description', 'Service Classification']\n",
    "    return df_final\n",
    "\n",
    "\n",
    "def filter_top_n_web_service_categories(df, label_column='Service Classification', top_n=50):\n",
    "    '''will filter data frame based on top_n category'''\n",
    "    label_counts = df[label_column].value_counts()\n",
    "    top_labels = label_counts.head(top_n).index\n",
    "    filtered_df = df[df[label_column].isin(top_labels)]\n",
    "    return filtered_df, label_counts[top_labels]\n",
    "\n",
    "\n",
    "def save_to_csv(df, output_path):\n",
    "    '''data frame to csv file saving'''\n",
    "    df.to_csv(output_path, encoding='utf-8', index=False, header=True)\n",
    "\n",
    "\n",
    "def plot_web_services_category_distribution(label_counts, title, output_path):\n",
    "    plt.figure(figsize=(20, 10))\n",
    "    label_counts.plot(kind='bar', fontsize=9)\n",
    "    plt.title(title)\n",
    "    plt.ylabel(\"Count\")\n",
    "    plt.tight_layout()\n",
    "    plt.savefig(output_path)\n",
    "    plt.close()\n",
    "\n",
    "\n",
    "def process_multiple_top_n_web_services(txt_path, output_dir, top_n_list):\n",
    "    data = return_json_from_txt(txt_path)\n",
    "    df = extract_web_service_description_category(data)\n",
    "\n",
    "    os.makedirs(output_dir, exist_ok=True)\n",
    "\n",
    "    for n in top_n_list:\n",
    "        filtered_df, label_counts = filter_top_n_web_service_categories(df, top_n=n)\n",
    "        csv_path = os.path.join(output_dir, f\"Top_{n}_Web_Services_Categories.csv\")\n",
    "        plot_path = os.path.join(output_dir, f\"Top_{n}_Web_Services_Categories.png\")\n",
    "        \n",
    "        save_to_csv(filtered_df, csv_path)\n",
    "        plot_web_services_category_distribution(label_counts, f\"Top {n} Web Service Categories\", plot_path)\n",
    "        print(f\"Saved Top {n} Web Service Categories CSV and plot.\")\n",
    "\n",
    "\n",
    "if __name__ == \"__main__\":\n",
    "    input_txt = \"ProgrammWebScrapy.txt\"\n",
    "    output_dir = \"top_web_services_categories_output\"\n",
    "    top_web_services_category_count_list = [10, 20, 30, 40, 50, 60, 70, 80, 90,100]\n",
    "    process_multiple_top_n_web_services(input_txt, output_dir, top_web_services_category_count_list)\n"
   ]
  },
  {
   "cell_type": "code",
   "execution_count": null,
   "id": "55bdd051",
   "metadata": {},
   "outputs": [],
   "source": []
  }
 ],
 "metadata": {
  "kernelspec": {
   "display_name": "Python 3 (ipykernel)",
   "language": "python",
   "name": "python3"
  },
  "language_info": {
   "codemirror_mode": {
    "name": "ipython",
    "version": 3
   },
   "file_extension": ".py",
   "mimetype": "text/x-python",
   "name": "python",
   "nbconvert_exporter": "python",
   "pygments_lexer": "ipython3",
   "version": "3.11.5"
  },
  "vincent": {
   "sessionId": "fd3737c34f892fa41b719160_2025-06-03T08-40-04-442Z"
  }
 },
 "nbformat": 4,
 "nbformat_minor": 5
}
